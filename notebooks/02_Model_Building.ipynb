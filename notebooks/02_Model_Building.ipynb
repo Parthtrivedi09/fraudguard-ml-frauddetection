{
 "cells": [
  {
   "cell_type": "markdown",
   "id": "94fb6df1",
   "metadata": {},
   "source": [
    "Model Training"
   ]
  },
  {
   "cell_type": "code",
   "execution_count": 1,
   "id": "efe9b076",
   "metadata": {},
   "outputs": [
    {
     "name": "stdout",
     "output_type": "stream",
     "text": [
      "Shape of the dataset: (284807, 31)\n",
      "Class\n",
      "0    284315\n",
      "1       492\n",
      "Name: count, dtype: int64\n"
     ]
    }
   ],
   "source": [
    "import pandas as pd\n",
    "\n",
    "# Load the dataset\n",
    "df = pd.read_csv(r\"C:\\Users\\Parth Trivedi\\Desktop\\CODING\\MachineLearning\\FraudGuard-ML-FraudDetection\\data\\creditcard\\creditcard.csv\")\n",
    "\n",
    "# Check shape\n",
    "print(\"Shape of the dataset:\", df.shape)\n",
    "\n",
    "# View class distribution\n",
    "print(df['Class'].value_counts())\n"
   ]
  },
  {
   "cell_type": "markdown",
   "id": "acf244f2",
   "metadata": {},
   "source": [
    "preprocessing \n",
    "we have also explored it in the eda file but in place of directly using the processed data from there or making a new csv using the processed data we are processing the data again in the trainging file so in detail explaination is there in eda file "
   ]
  },
  {
   "cell_type": "code",
   "execution_count": 2,
   "id": "f9efcb24",
   "metadata": {},
   "outputs": [],
   "source": [
    "#2.1 Drop Time column and scale Amount\n",
    "from sklearn.preprocessing import StandardScaler\n",
    "\n",
    "# Drop the 'Time' column\n",
    "df.drop('Time', axis=1, inplace=True)\n",
    "\n",
    "# Scale the 'Amount' column\n",
    "scaler = StandardScaler()\n",
    "df['Amount'] = scaler.fit_transform(df[['Amount']])\n",
    "\n",
    "#2.2 Split into Features and Labels\n",
    "# Features and Target\n",
    "X = df.drop('Class', axis=1)\n",
    "y = df['Class']"
   ]
  },
  {
   "cell_type": "code",
   "execution_count": 3,
   "id": "75596b8a",
   "metadata": {},
   "outputs": [],
   "source": [
    "#2.3 Train-Test Split\n",
    "from sklearn.model_selection import train_test_split\n",
    "\n",
    "# 80-20 Split\n",
    "X_train, X_test, y_train, y_test = train_test_split(X, y, test_size=0.2, random_state=42, stratify=y)\n",
    "\n"
   ]
  },
  {
   "cell_type": "markdown",
   "id": "c464b203",
   "metadata": {},
   "source": [
    "Handle Imbalanced Dataset using SMOTE"
   ]
  },
  {
   "cell_type": "markdown",
   "id": "f8b58217",
   "metadata": {},
   "source": [
    "Fraudulent transactions are rare (highly imbalanced), so we use SMOTE (Synthetic Minority Over-sampling Technique) to oversample the minority class not RUS this time\n",
    "Why we're using SMOTE (in this project):\n",
    "We have a large imbalance — fraud = 0.17% of data. RUS would throw away 99%+ of legitimate transactions.\n",
    "\n",
    "Dropping 99% of the data = huge loss of signal → poor model performance.\n",
    "\n",
    "SMOTE creates more samples for the minority class without touching majority — so we retain all useful data.\n",
    "\n",
    "📌 When would you use RUS?\n",
    "Dataset is very large and training is expensive.\n",
    "\n",
    "Minority class is not too rare (e.g. 70:30 ratio).\n",
    "\n",
    "You're just doing quick prototyping."
   ]
  },
  {
   "cell_type": "code",
   "execution_count": 4,
   "id": "4aedcb0a",
   "metadata": {},
   "outputs": [],
   "source": [
    "from sklearn.utils import resample\n",
    "\n",
    "# Separate majority and minority classes\n",
    "df_majority = df[df['Class'] == 0]\n",
    "df_minority = df[df['Class'] == 1]\n",
    "\n",
    "# Downsample majority class\n",
    "df_majority_downsampled = resample(\n",
    "    df_majority,\n",
    "    replace=False,                # without replacement\n",
    "    n_samples=len(df_minority),   # match minority class size\n",
    "    random_state=42               # reproducible\n",
    ")\n",
    "\n",
    "# Combine minority class with downsampled majority class\n",
    "df_rus = pd.concat([df_majority_downsampled, df_minority])\n",
    "\n",
    "# Shuffle the resulting dataset\n",
    "df_rus = df_rus.sample(frac=1, random_state=42).reset_index(drop=True)\n",
    "X = df_rus.drop(\"Class\", axis=1)\n",
    "y = df_rus[\"Class\"]\n"
   ]
  },
  {
   "cell_type": "markdown",
   "id": "472e837e",
   "metadata": {},
   "source": [
    "scaling and training model on the RUS-balanced data."
   ]
  },
  {
   "cell_type": "code",
   "execution_count": 5,
   "id": "d88d4a0a",
   "metadata": {},
   "outputs": [],
   "source": [
    "#feature scaling\n",
    "from sklearn.preprocessing import StandardScaler\n",
    "\n",
    "scaler = StandardScaler()\n",
    "X_train_scaled = scaler.fit_transform(X_train)\n",
    "X_test_scaled = scaler.transform(X_test)\n"
   ]
  },
  {
   "cell_type": "markdown",
   "id": "abb85a6c",
   "metadata": {},
   "source": [
    "Training the model using logistic regression"
   ]
  },
  {
   "cell_type": "code",
   "execution_count": 6,
   "id": "eefe57d5",
   "metadata": {},
   "outputs": [
    {
     "name": "stdout",
     "output_type": "stream",
     "text": [
      "[[56851    13]\n",
      " [   35    63]]\n",
      "              precision    recall  f1-score   support\n",
      "\n",
      "           0       1.00      1.00      1.00     56864\n",
      "           1       0.83      0.64      0.72        98\n",
      "\n",
      "    accuracy                           1.00     56962\n",
      "   macro avg       0.91      0.82      0.86     56962\n",
      "weighted avg       1.00      1.00      1.00     56962\n",
      "\n"
     ]
    }
   ],
   "source": [
    "from sklearn.linear_model import LogisticRegression\n",
    "from sklearn.metrics  import classification_report, confusion_matrix\n",
    "\n",
    "model=LogisticRegression(random_state=42)\n",
    "model.fit(X_train_scaled,y_train)\n",
    "y_pred=model.predict(X_test_scaled)\n",
    "\n",
    "print(confusion_matrix(y_test,y_pred))\n",
    "print(classification_report(y_test,y_pred))"
   ]
  },
  {
   "cell_type": "markdown",
   "id": "ef4490b3",
   "metadata": {},
   "source": [
    "[[56851    13]   → True Negatives (majority class), False Positives\n",
    " [   35    63]]  → False Negatives, True Positives (fraud cases)\n",
    "Interpretation\n",
    "\n",
    "Class 0 (Non-Fraud): Perfect recall (1.00) and almost perfect precision — only 13 false alarms.\n",
    "\n",
    "Class 1 (Fraud):\n",
    "\n",
    "Precision = 0.83 → 17% of predicted fraud cases were actually non-fraud.\n",
    "\n",
    "Recall = 0.64 → The model caught only 64% of actual frauds, missing 36%.\n",
    "\n",
    "Accuracy is misleadingly high (1.00) because fraud cases are still a very small part of the dataset.\n",
    "\n",
    "Why Recall is Low for Class 1\n",
    "\n",
    "Even after RUS, Logistic Regression is still a simple linear model — fraud detection is usually non-linear and complex.\n",
    "\n",
    "✅ Got a baseline with Logistic Regression → we now know where we stand\n",
    "\n",
    "Since we’ve now got RUS working and a decent baseline evaluation, the next step in the project should be:\n",
    "\n",
    "1. Train & Evaluate Multiple Models\n",
    "\n",
    "Implement Logistic Regression, Random Forest, and XGBoost on the RUS-balanced dataset.\n",
    "\n",
    "Use Stratified K-Fold Cross-Validation so each fold maintains the fraud vs. non-fraud ratio.\n",
    "\n",
    "Track Recall, F1-score, and ROC-AUC for each model (recall is most important here).\n",
    "\n",
    "2. Compare & Select Best Model\n",
    "\n",
    "Put all results into a comparison table.\n",
    "\n",
    "Pick the model with highest recall without sacrificing too much precision (avoid too many false positives).\n",
    "\n",
    "3. Fine-Tuning\n",
    "\n",
    "Apply GridSearchCV or RandomizedSearchCV to the top-performing model(s) to find best hyperparameters.\n",
    "\n",
    "Re-run CV with tuned parameters to confirm improvement.\n",
    "\n",
    "4. Final Evaluation\n",
    "\n",
    "Train final model on entire training set with best parameters.\n",
    "\n",
    "Test on hold-out test set (unseen data).\n",
    "\n",
    "Save confusion matrix, ROC curve, PR curve.\n"
   ]
  },
  {
   "cell_type": "code",
   "execution_count": 8,
   "id": "425572c1",
   "metadata": {},
   "outputs": [
    {
     "name": "stdout",
     "output_type": "stream",
     "text": [
      "Confusion Matrix:\n",
      " [[56859     5]\n",
      " [   17    81]]\n",
      "\n",
      "Classification Report:\n",
      "               precision    recall  f1-score   support\n",
      "\n",
      "           0       1.00      1.00      1.00     56864\n",
      "           1       0.94      0.83      0.88        98\n",
      "\n",
      "    accuracy                           1.00     56962\n",
      "   macro avg       0.97      0.91      0.94     56962\n",
      "weighted avg       1.00      1.00      1.00     56962\n",
      "\n",
      "ROC-AUC Score: 0.9528106983508091\n"
     ]
    }
   ],
   "source": [
    "#random forest\n",
    "from sklearn.ensemble import RandomForestClassifier\n",
    "from sklearn.metrics import classification_report, confusion_matrix, roc_auc_score\n",
    "\n",
    "# Train Random Forest on RUS-balanced data\n",
    "rf = RandomForestClassifier(\n",
    "    n_estimators=100,\n",
    "    max_depth=None,\n",
    "    random_state=42,\n",
    "    n_jobs=-1\n",
    ")\n",
    "rf.fit(X_train, y_train)\n",
    "\n",
    "# Predictions\n",
    "y_pred_rf = rf.predict(X_test)\n",
    "y_pred_rf_proba = rf.predict_proba(X_test)[:, 1]\n",
    "\n",
    "# Evaluation\n",
    "print(\"Confusion Matrix:\\n\", confusion_matrix(y_test, y_pred_rf))\n",
    "print(\"\\nClassification Report:\\n\", classification_report(y_test, y_pred_rf))\n",
    "print(\"ROC-AUC Score:\", roc_auc_score(y_test, y_pred_rf_proba))\n"
   ]
  },
  {
   "cell_type": "markdown",
   "id": "3fbecf18",
   "metadata": {},
   "source": [
    "Nice — that’s a big improvement over Logistic Regression, especially in:\n",
    "\n",
    "Recall for fraud class (1): 0.83 vs earlier ~0.64 → catching more fraud cases.\n",
    "\n",
    "Precision for fraud class (1): 0.94 → far fewer false alarms.\n",
    "\n",
    "ROC-AUC: 0.95 → very strong discrimination ability."
   ]
  },
  {
   "cell_type": "code",
   "execution_count": null,
   "id": "b2812983",
   "metadata": {},
   "outputs": [
    {
     "name": "stderr",
     "output_type": "stream",
     "text": [
      "C:\\Users\\Parth Trivedi\\AppData\\Roaming\\Python\\Python313\\site-packages\\xgboost\\training.py:183: UserWarning: [18:08:37] WARNING: C:\\actions-runner\\_work\\xgboost\\xgboost\\src\\learner.cc:738: \n",
      "Parameters: { \"use_label_encoder\" } are not used.\n",
      "\n",
      "  bst.update(dtrain, iteration=i, fobj=obj)\n"
     ]
    },
    {
     "name": "stdout",
     "output_type": "stream",
     "text": [
      "Confusion Matrix:\n",
      " [[56858     6]\n",
      " [   22    76]]\n",
      "\n",
      "Classification Report:\n",
      "               precision    recall  f1-score   support\n",
      "\n",
      "           0       1.00      1.00      1.00     56864\n",
      "           1       0.93      0.78      0.84        98\n",
      "\n",
      "    accuracy                           1.00     56962\n",
      "   macro avg       0.96      0.89      0.92     56962\n",
      "weighted avg       1.00      1.00      1.00     56962\n",
      "\n",
      "\n",
      "ROC-AUC Score: 0.9555184658275242\n"
     ]
    }
   ],
   "source": [
    "#XGBoost\n",
    "from xgboost import XGBClassifier\n",
    "from sklearn.metrics import confusion_matrix, classification_report, roc_auc_score\n",
    "\n",
    "# Initialize XGBoost\n",
    "xgb = XGBClassifier(\n",
    "    n_estimators=200,\n",
    "    learning_rate=0.1,\n",
    "    max_depth=5,\n",
    "    random_state=42,\n",
    "    scale_pos_weight=1,  # Already balanced with RUS\n",
    "    eval_metric='logloss',\n",
    "    use_label_encoder=False\n",
    ")\n",
    "\n",
    "# Train the model\n",
    "xgb.fit(X_train, y_train)\n",
    "\n",
    "# Predictions\n",
    "y_pred_xgb = xgb.predict(X_test)\n",
    "y_pred_prob_xgb = xgb.predict_proba(X_test)[:, 1]\n",
    "\n",
    "# Evaluation\n",
    "cm_xgb = confusion_matrix(y_test, y_pred_xgb)\n",
    "cr_xgb = classification_report(y_test, y_pred_xgb)\n",
    "roc_auc_xgb = roc_auc_score(y_test, y_pred_prob_xgb)\n",
    "\n",
    "print(\"Confusion Matrix:\\n\", cm_xgb)\n",
    "print(\"\\nClassification Report:\\n\", cr_xgb)\n",
    "print(\"\\nROC-AUC Score:\", roc_auc_xgb)\n"
   ]
  },
  {
   "cell_type": "markdown",
   "id": "36e04bc8",
   "metadata": {},
   "source": [
    "ChatGPT said:\n",
    "\n",
    "Nice — your XGBoost is giving:\n",
    "\n",
    "Slightly higher ROC-AUC than Logistic Regression (0.9555 vs 0.9528)\n",
    "\n",
    "Slightly lower recall for class 1 (0.78 vs 0.83), meaning it catches fewer fraud cases than Logistic Regression\n",
    "\n",
    "Precision for fraud detection is still very high (0.93)"
   ]
  },
  {
   "cell_type": "markdown",
   "id": "ab45f2d6",
   "metadata": {},
   "source": [
    "| Model               | Precision (Fraud) | Recall (Fraud) | F1 (Fraud) | ROC-AUC |\n",
    "| ------------------- | ----------------- | -------------- | ---------- | ------- |\n",
    "| Logistic Regression | 0.94              | 0.83           | 0.88       | 0.9528  |\n",
    "| Random Forest       | 0.94              | 0.83           | 0.88       | 0.9528  |\n",
    "| XGBoost             | 0.93              | 0.78           | 0.84       | 0.9555  |\n"
   ]
  },
  {
   "cell_type": "markdown",
   "id": "7219d40b",
   "metadata": {},
   "source": [
    "Observations:\n",
    "\n",
    "Logistic Regression and Random Forest performed almost identically, with strong precision and recall balance.\n",
    "\n",
    "XGBoost had slightly lower recall, meaning it missed a few more fraud cases, but it had the highest ROC-AUC, suggesting it ranks fraud probabilities slightly better overall.\n",
    "\n",
    "For deployment, Random Forest or Logistic Regression might be safer for balanced fraud detection, while XGBoost could be considered if ranking potential frauds for review is the goal.|"
   ]
  },
  {
   "cell_type": "code",
   "execution_count": 14,
   "id": "f7173000",
   "metadata": {},
   "outputs": [
    {
     "data": {
      "image/png": "[encoded data removed]",
      "text/plain": [
       "<Figure size 800x500 with 1 Axes>"
      ]
     },
     "metadata": {},
     "output_type": "display_data"
    },
    {
     "data": {
      "image/png": "[encoded data removed]",
      "text/plain": [
       "<Figure size 800x500 with 1 Axes>"
      ]
     },
     "metadata": {},
     "output_type": "display_data"
    }
   ],
   "source": [
    "import pandas as pd\n",
    "import matplotlib.pyplot as plt\n",
    "import numpy as np\n",
    "\n",
    "# Random Forest feature importance\n",
    "rf_importances = rf.feature_importances_\n",
    "rf_indices = np.argsort(rf_importances)[::-1][:10]  # top 10\n",
    "\n",
    "plt.figure(figsize=(8, 5))\n",
    "plt.barh(range(10), rf_importances[rf_indices][::-1], align='center')\n",
    "plt.yticks(range(10), [X_train.columns[i] for i in rf_indices][::-1])\n",
    "plt.xlabel(\"Importance\")\n",
    "plt.title(\"Top 10 Features - Random Forest\")\n",
    "plt.show()\n",
    "\n",
    "# XGBoost feature importance\n",
    "xgb_importances = xgb.feature_importances_\n",
    "xgb_indices = np.argsort(xgb_importances)[::-1][:10]  # top 10\n",
    "\n",
    "plt.figure(figsize=(8, 5))\n",
    "plt.barh(range(10), xgb_importances[xgb_indices][::-1], align='center', color='orange')\n",
    "plt.yticks(range(10), [X_train.columns[i] for i in xgb_indices][::-1])\n",
    "plt.xlabel(\"Importance\")\n",
    "plt.title(\"Top 10 Features - XGBoost\")\n",
    "plt.show()\n"
   ]
  }
 ],
 "metadata": {
  "kernelspec": {
   "display_name": "Python 3",
   "language": "python",
   "name": "python3"
  },
  "language_info": {
   "codemirror_mode": {
    "name": "ipython",
    "version": 3
   },
   "file_extension": ".py",
   "mimetype": "text/x-python",
   "name": "python",
   "nbconvert_exporter": "python",
   "pygments_lexer": "ipython3",
   "version": "3.13.1"
  }
 },
 "nbformat": 4,
 "nbformat_minor": 5
}
